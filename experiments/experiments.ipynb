{
 "cells": [
  {
   "cell_type": "code",
   "execution_count": 2,
   "metadata": {},
   "outputs": [
    {
     "name": "stdout",
     "output_type": "stream",
     "text": [
      "Collecting rpy2\n",
      "  Downloading rpy2-3.5.16-cp311-cp311-macosx_10_9_universal2.whl.metadata (4.5 kB)\n",
      "Collecting cffi>=1.15.1 (from rpy2)\n",
      "  Using cached cffi-1.16.0-cp311-cp311-macosx_10_9_x86_64.whl.metadata (1.5 kB)\n",
      "Collecting jinja2 (from rpy2)\n",
      "  Using cached jinja2-3.1.4-py3-none-any.whl.metadata (2.6 kB)\n",
      "Collecting tzlocal (from rpy2)\n",
      "  Downloading tzlocal-5.2-py3-none-any.whl.metadata (7.8 kB)\n",
      "Collecting pycparser (from cffi>=1.15.1->rpy2)\n",
      "  Using cached pycparser-2.22-py3-none-any.whl.metadata (943 bytes)\n",
      "Collecting MarkupSafe>=2.0 (from jinja2->rpy2)\n",
      "  Using cached MarkupSafe-2.1.5-cp311-cp311-macosx_10_9_x86_64.whl.metadata (3.0 kB)\n",
      "Downloading rpy2-3.5.16-cp311-cp311-macosx_10_9_universal2.whl (299 kB)\n",
      "\u001b[2K   \u001b[90m━━━━━━━━━━━━━━━━━━━━━━━━━━━━━━━━━━━━━━━━\u001b[0m \u001b[32m299.9/299.9 kB\u001b[0m \u001b[31m5.9 MB/s\u001b[0m eta \u001b[36m0:00:00\u001b[0m:00:01\u001b[0m\n",
      "\u001b[?25hUsing cached cffi-1.16.0-cp311-cp311-macosx_10_9_x86_64.whl (182 kB)\n",
      "Using cached jinja2-3.1.4-py3-none-any.whl (133 kB)\n",
      "Downloading tzlocal-5.2-py3-none-any.whl (17 kB)\n",
      "Using cached MarkupSafe-2.1.5-cp311-cp311-macosx_10_9_x86_64.whl (14 kB)\n",
      "Using cached pycparser-2.22-py3-none-any.whl (117 kB)\n",
      "Installing collected packages: tzlocal, pycparser, MarkupSafe, jinja2, cffi, rpy2\n",
      "Successfully installed MarkupSafe-2.1.5 cffi-1.16.0 jinja2-3.1.4 pycparser-2.22 rpy2-3.5.16 tzlocal-5.2\n"
     ]
    }
   ],
   "source": [
    "!pip3 install rpy2"
   ]
  },
  {
   "cell_type": "code",
   "execution_count": 54,
   "metadata": {},
   "outputs": [],
   "source": [
    "# R libraries\n",
    "import rpy2.robjects as robjects\n",
    "from rpy2.robjects import pandas2ri\n",
    "\n",
    "# Data wrangling\n",
    "import pandas as pd\n",
    "import numpy as np\n",
    "\n",
    "# Viz\n",
    "import matplotlib.pyplot as plt\n",
    "import seaborn as sns"
   ]
  },
  {
   "cell_type": "code",
   "execution_count": 24,
   "metadata": {},
   "outputs": [],
   "source": [
    "def read_rda(path, r_df_name):\n",
    "\n",
    "    # Activate the automatic conversion of R objects to pandas objects\n",
    "    pandas2ri.activate()\n",
    "\n",
    "    # Path to your .rda file\n",
    "    rda_file_path = path\n",
    "\n",
    "    # Load the .rda file\n",
    "    robjects.r['load'](rda_file_path)\n",
    "\n",
    "    # Assuming the .rda file contains a single data frame named 'df_name'\n",
    "    df_name = r_df_name\n",
    "\n",
    "    # Retrieve the data frame from R environment\n",
    "    r_dataframe = robjects.r[df_name]\n",
    "\n",
    "    # Convert R data frame to pandas DataFrame\n",
    "    try:\n",
    "        pandas_dataframe = pandas2ri.rpy2py(r_dataframe)\n",
    "    except TypeError as e:\n",
    "        print(\"TypeError encountered:\", e)\n",
    "        # Attempt a manual conversion or inspect data structure\n",
    "        pandas_dataframe = pd.DataFrame({key: list(val) for key, val in r_dataframe.items()})\n",
    "\n",
    "    return pandas_dataframe"
   ]
  },
  {
   "cell_type": "code",
   "execution_count": 42,
   "metadata": {},
   "outputs": [],
   "source": [
    "def harmonize_df(df, city_name, main_street_name):\n",
    "    \n",
    "    df.drop(columns = ['LONGITUDE', 'LATITUDE', 'geometry'], inplace = True)\n",
    "    df['CITY'] = city_name\n",
    "    main_street_dist = 'DISTANCE_TO_' + main_street_name\n",
    "    df.rename(columns = {main_street_dist:'DISTANCE_TO_MAIN'}, inplace = True)\n",
    "\n",
    "    return df"
   ]
  },
  {
   "cell_type": "markdown",
   "metadata": {},
   "source": [
    "## Read and process data"
   ]
  },
  {
   "cell_type": "code",
   "execution_count": 43,
   "metadata": {},
   "outputs": [
    {
     "name": "stdout",
     "output_type": "stream",
     "text": [
      "TypeError encountered: 'NULLType' object is not iterable\n",
      "TypeError encountered: 'NULLType' object is not iterable\n",
      "TypeError encountered: 'NULLType' object is not iterable\n"
     ]
    }
   ],
   "source": [
    "df_mad = read_rda('../data-raw/Madrid_Sale.RData', 'Madrid_Sale')\n",
    "df_mad = harmonize_df(df_mad, 'MADRID', 'CASTELLANA')\n",
    "\n",
    "df_bcn = read_rda('../data-raw/Barcelona_Sale.RData', 'Barcelona_Sale')\n",
    "df_bcn = harmonize_df(df_bcn, 'BARCELONA', 'DIAGONAL')\n",
    "\n",
    "df_val = read_rda('../data-raw/Valencia_Sale.RData', 'Valencia_Sale')\n",
    "df_val = harmonize_df(df_val, 'VALENCIA', 'BLASCO')\n",
    "\n",
    "assert df_val.columns.all() == df_bcn.columns.all() == df_mad.columns.all()"
   ]
  },
  {
   "cell_type": "code",
   "execution_count": 85,
   "metadata": {},
   "outputs": [
    {
     "data": {
      "text/html": [
       "<div>\n",
       "<style scoped>\n",
       "    .dataframe tbody tr th:only-of-type {\n",
       "        vertical-align: middle;\n",
       "    }\n",
       "\n",
       "    .dataframe tbody tr th {\n",
       "        vertical-align: top;\n",
       "    }\n",
       "\n",
       "    .dataframe thead th {\n",
       "        text-align: right;\n",
       "    }\n",
       "</style>\n",
       "<table border=\"1\" class=\"dataframe\">\n",
       "  <thead>\n",
       "    <tr style=\"text-align: right;\">\n",
       "      <th></th>\n",
       "      <th>ASSETID</th>\n",
       "      <th>PERIOD</th>\n",
       "      <th>PRICE</th>\n",
       "      <th>UNITPRICE</th>\n",
       "      <th>CONSTRUCTEDAREA</th>\n",
       "      <th>ROOMNUMBER</th>\n",
       "      <th>BATHNUMBER</th>\n",
       "      <th>HASTERRACE</th>\n",
       "      <th>HASLIFT</th>\n",
       "      <th>HASAIRCONDITIONING</th>\n",
       "      <th>...</th>\n",
       "      <th>CADMAXBUILDINGFLOOR</th>\n",
       "      <th>CADDWELLINGCOUNT</th>\n",
       "      <th>CADASTRALQUALITYID</th>\n",
       "      <th>BUILTTYPEID_1</th>\n",
       "      <th>BUILTTYPEID_2</th>\n",
       "      <th>BUILTTYPEID_3</th>\n",
       "      <th>DISTANCE_TO_CITY_CENTER</th>\n",
       "      <th>DISTANCE_TO_METRO</th>\n",
       "      <th>DISTANCE_TO_MAIN</th>\n",
       "      <th>CITY</th>\n",
       "    </tr>\n",
       "  </thead>\n",
       "  <tbody>\n",
       "    <tr>\n",
       "      <th>0</th>\n",
       "      <td>27088</td>\n",
       "      <td>201812</td>\n",
       "      <td>111000.0</td>\n",
       "      <td>1480.000000</td>\n",
       "      <td>75</td>\n",
       "      <td>2</td>\n",
       "      <td>1</td>\n",
       "      <td>1</td>\n",
       "      <td>1</td>\n",
       "      <td>1</td>\n",
       "      <td>...</td>\n",
       "      <td>7</td>\n",
       "      <td>35</td>\n",
       "      <td>6</td>\n",
       "      <td>0</td>\n",
       "      <td>0</td>\n",
       "      <td>1</td>\n",
       "      <td>3.759093</td>\n",
       "      <td>0.756517</td>\n",
       "      <td>3.373132</td>\n",
       "      <td>VALENCIA</td>\n",
       "    </tr>\n",
       "    <tr>\n",
       "      <th>1</th>\n",
       "      <td>6306</td>\n",
       "      <td>201812</td>\n",
       "      <td>169000.0</td>\n",
       "      <td>1320.312500</td>\n",
       "      <td>128</td>\n",
       "      <td>4</td>\n",
       "      <td>2</td>\n",
       "      <td>0</td>\n",
       "      <td>1</td>\n",
       "      <td>1</td>\n",
       "      <td>...</td>\n",
       "      <td>7</td>\n",
       "      <td>56</td>\n",
       "      <td>5</td>\n",
       "      <td>0</td>\n",
       "      <td>0</td>\n",
       "      <td>1</td>\n",
       "      <td>2.073773</td>\n",
       "      <td>0.370680</td>\n",
       "      <td>0.540594</td>\n",
       "      <td>VALENCIA</td>\n",
       "    </tr>\n",
       "    <tr>\n",
       "      <th>2</th>\n",
       "      <td>24353</td>\n",
       "      <td>201812</td>\n",
       "      <td>162000.0</td>\n",
       "      <td>1883.720930</td>\n",
       "      <td>86</td>\n",
       "      <td>2</td>\n",
       "      <td>1</td>\n",
       "      <td>0</td>\n",
       "      <td>1</td>\n",
       "      <td>1</td>\n",
       "      <td>...</td>\n",
       "      <td>6</td>\n",
       "      <td>20</td>\n",
       "      <td>4</td>\n",
       "      <td>0</td>\n",
       "      <td>0</td>\n",
       "      <td>1</td>\n",
       "      <td>2.099641</td>\n",
       "      <td>0.038560</td>\n",
       "      <td>0.719203</td>\n",
       "      <td>VALENCIA</td>\n",
       "    </tr>\n",
       "    <tr>\n",
       "      <th>3</th>\n",
       "      <td>8874</td>\n",
       "      <td>201812</td>\n",
       "      <td>199000.0</td>\n",
       "      <td>1792.792793</td>\n",
       "      <td>111</td>\n",
       "      <td>4</td>\n",
       "      <td>2</td>\n",
       "      <td>0</td>\n",
       "      <td>1</td>\n",
       "      <td>0</td>\n",
       "      <td>...</td>\n",
       "      <td>8</td>\n",
       "      <td>25</td>\n",
       "      <td>5</td>\n",
       "      <td>0</td>\n",
       "      <td>0</td>\n",
       "      <td>1</td>\n",
       "      <td>2.120917</td>\n",
       "      <td>0.524827</td>\n",
       "      <td>0.915379</td>\n",
       "      <td>VALENCIA</td>\n",
       "    </tr>\n",
       "    <tr>\n",
       "      <th>4</th>\n",
       "      <td>24135</td>\n",
       "      <td>201812</td>\n",
       "      <td>73000.0</td>\n",
       "      <td>1303.571429</td>\n",
       "      <td>56</td>\n",
       "      <td>3</td>\n",
       "      <td>1</td>\n",
       "      <td>1</td>\n",
       "      <td>1</td>\n",
       "      <td>0</td>\n",
       "      <td>...</td>\n",
       "      <td>6</td>\n",
       "      <td>20</td>\n",
       "      <td>8</td>\n",
       "      <td>0</td>\n",
       "      <td>0</td>\n",
       "      <td>1</td>\n",
       "      <td>3.087950</td>\n",
       "      <td>1.129985</td>\n",
       "      <td>2.009535</td>\n",
       "      <td>VALENCIA</td>\n",
       "    </tr>\n",
       "  </tbody>\n",
       "</table>\n",
       "<p>5 rows × 40 columns</p>\n",
       "</div>"
      ],
      "text/plain": [
       "   ASSETID  PERIOD     PRICE    UNITPRICE  CONSTRUCTEDAREA  ROOMNUMBER  \\\n",
       "0    27088  201812  111000.0  1480.000000               75           2   \n",
       "1     6306  201812  169000.0  1320.312500              128           4   \n",
       "2    24353  201812  162000.0  1883.720930               86           2   \n",
       "3     8874  201812  199000.0  1792.792793              111           4   \n",
       "4    24135  201812   73000.0  1303.571429               56           3   \n",
       "\n",
       "   BATHNUMBER  HASTERRACE  HASLIFT  HASAIRCONDITIONING  ...  \\\n",
       "0           1           1        1                   1  ...   \n",
       "1           2           0        1                   1  ...   \n",
       "2           1           0        1                   1  ...   \n",
       "3           2           0        1                   0  ...   \n",
       "4           1           1        1                   0  ...   \n",
       "\n",
       "   CADMAXBUILDINGFLOOR  CADDWELLINGCOUNT  CADASTRALQUALITYID  BUILTTYPEID_1  \\\n",
       "0                    7                35                   6              0   \n",
       "1                    7                56                   5              0   \n",
       "2                    6                20                   4              0   \n",
       "3                    8                25                   5              0   \n",
       "4                    6                20                   8              0   \n",
       "\n",
       "   BUILTTYPEID_2  BUILTTYPEID_3  DISTANCE_TO_CITY_CENTER  DISTANCE_TO_METRO  \\\n",
       "0              0              1                 3.759093           0.756517   \n",
       "1              0              1                 2.073773           0.370680   \n",
       "2              0              1                 2.099641           0.038560   \n",
       "3              0              1                 2.120917           0.524827   \n",
       "4              0              1                 3.087950           1.129985   \n",
       "\n",
       "   DISTANCE_TO_MAIN      CITY  \n",
       "0          3.373132  VALENCIA  \n",
       "1          0.540594  VALENCIA  \n",
       "2          0.719203  VALENCIA  \n",
       "3          0.915379  VALENCIA  \n",
       "4          2.009535  VALENCIA  \n",
       "\n",
       "[5 rows x 40 columns]"
      ]
     },
     "execution_count": 85,
     "metadata": {},
     "output_type": "execute_result"
    }
   ],
   "source": [
    "df = pd.concat([df_val, df_bcn, df_mad], axis = 0)\n",
    "df.head()"
   ]
  },
  {
   "cell_type": "markdown",
   "metadata": {},
   "source": [
    "## Visualise"
   ]
  },
  {
   "cell_type": "code",
   "execution_count": 81,
   "metadata": {},
   "outputs": [
    {
     "data": {
      "text/plain": [
       "Text(0.5, 1.0, 'Madrid')"
      ]
     },
     "execution_count": 81,
     "metadata": {},
     "output_type": "execute_result"
    },
    {
     "data": {
      "image/png": "[encoded data removed]",
      "text/plain": [
       "<Figure size 800x1400 with 3 Axes>"
      ]
     },
     "metadata": {},
     "output_type": "display_data"
    }
   ],
   "source": [
    "# Histograms\n",
    "\n",
    "fig, ax = plt.subplots(3, 1, figsize = (8,14))\n",
    "\n",
    "sns.histplot(df_val['UNITPRICE'], ax=ax[0], color = 'blue', stat = 'percent', binrange = (0,10000), binwidth=100)\n",
    "ax[0].set_title('Valencia')\n",
    "sns.histplot(df_bcn['UNITPRICE'], ax=ax[1], color = 'gold', stat = 'percent', binrange = (0,10000), binwidth=100)\n",
    "ax[1].set_title('Barcelona')\n",
    "sns.histplot(df_mad['UNITPRICE'], ax=ax[2], color = 'red', stat = 'percent', binrange = (0,10000), binwidth=100)\n",
    "ax[2].set_title('Madrid')\n"
   ]
  },
  {
   "cell_type": "code",
   "execution_count": null,
   "metadata": {},
   "outputs": [],
   "source": []
  },
  {
   "cell_type": "code",
   "execution_count": 75,
   "metadata": {},
   "outputs": [
    {
     "data": {
      "text/plain": [
       "Index(['ASSETID', 'PERIOD', 'PRICE', 'UNITPRICE', 'CONSTRUCTEDAREA',\n",
       "       'ROOMNUMBER', 'BATHNUMBER', 'HASTERRACE', 'HASLIFT',\n",
       "       'HASAIRCONDITIONING', 'AMENITYID', 'HASPARKINGSPACE',\n",
       "       'ISPARKINGSPACEINCLUDEDINPRICE', 'PARKINGSPACEPRICE',\n",
       "       'HASNORTHORIENTATION', 'HASSOUTHORIENTATION', 'HASEASTORIENTATION',\n",
       "       'HASWESTORIENTATION', 'HASBOXROOM', 'HASWARDROBE', 'HASSWIMMINGPOOL',\n",
       "       'HASDOORMAN', 'HASGARDEN', 'ISDUPLEX', 'ISSTUDIO', 'ISINTOPFLOOR',\n",
       "       'CONSTRUCTIONYEAR', 'FLOORCLEAN', 'FLATLOCATIONID',\n",
       "       'CADCONSTRUCTIONYEAR', 'CADMAXBUILDINGFLOOR', 'CADDWELLINGCOUNT',\n",
       "       'CADASTRALQUALITYID', 'BUILTTYPEID_1', 'BUILTTYPEID_2', 'BUILTTYPEID_3',\n",
       "       'DISTANCE_TO_CITY_CENTER', 'DISTANCE_TO_METRO', 'DISTANCE_TO_MAIN',\n",
       "       'CITY'],\n",
       "      dtype='object')"
      ]
     },
     "execution_count": 75,
     "metadata": {},
     "output_type": "execute_result"
    }
   ],
   "source": [
    "df_val.columns"
   ]
  },
  {
   "cell_type": "code",
   "execution_count": null,
   "metadata": {},
   "outputs": [],
   "source": []
  }
 ],
 "metadata": {
  "kernelspec": {
   "display_name": "idealista",
   "language": "python",
   "name": "python3"
  },
  "language_info": {
   "codemirror_mode": {
    "name": "ipython",
    "version": 3
   },
   "file_extension": ".py",
   "mimetype": "text/x-python",
   "name": "python",
   "nbconvert_exporter": "python",
   "pygments_lexer": "ipython3",
   "version": "3.11.9"
  }
 },
 "nbformat": 4,
 "nbformat_minor": 2
}
